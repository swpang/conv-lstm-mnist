{
 "cells": [
  {
   "cell_type": "markdown",
   "metadata": {},
   "source": [
    "## Environment Setting\n",
    "Google drive mount (for Colab users) and package importing.\n",
    "You can optionally install and import torchensemble package for ensemble learning"
   ]
  },
  {
   "cell_type": "code",
   "execution_count": 1,
   "metadata": {},
   "outputs": [],
   "source": [
    "import os\n",
    "import numpy as np\n",
    "import torch\n",
    "import torch.nn as nn\n",
    "import random  \n",
    "import torchvision.transforms as transforms\n",
    "import torch.nn.functional as F\n",
    "import torch.optim as optim\n",
    "from torch.utils.data import DataLoader"
   ]
  },
  {
   "cell_type": "markdown",
   "metadata": {},
   "source": [
    "## (Optional) Sample Visualization\n",
    "You can see actual sample images and sorted class indices. Additional matplotlib package is needed."
   ]
  },
  {
   "cell_type": "code",
   "execution_count": 2,
   "metadata": {},
   "outputs": [],
   "source": [
    "# Just for reference: see actual samples\n",
    "import matplotlib.pyplot as plt\n",
    "\n",
    "alphabet = {\n",
    "        'A(a)' : '0', 'B(b)' : '1', 'C(c)' : '2', 'D(d)' : '3', 'E(e)' : '4', 'F(f)' : '5', \n",
    "        'G(g)' : '6', 'H(h)' : '7', 'I(i)' : '8', 'J(j)' : '9', 'K(k)' : '10','L(l)' : '11', \n",
    "        'M(m)' : '12', 'N(n)' : '13', 'O(o)' : '14', 'P(p)' : '15', 'Q(q)' : '16', 'R(r)' : '17', \n",
    "        'S(s)' : '18', 'T(t)' : '19', 'U(u)' : '20', 'V(v)' : '21', 'W(w)' : '22', 'X(x)' : '23', \n",
    "        'Y(y)' : '24', 'Z(z)' : '25'\n",
    "    }"
   ]
  },
  {
   "cell_type": "code",
   "execution_count": 3,
   "metadata": {
    "scrolled": false
   },
   "outputs": [
    {
     "name": "stdout",
     "output_type": "stream",
     "text": [
      "5\n"
     ]
    },
    {
     "data": {
      "image/png": "[encoded data removed]",
      "text/plain": [
       "<Figure size 360x360 with 5 Axes>"
      ]
     },
     "metadata": {
      "needs_background": "light"
     },
     "output_type": "display_data"
    },
    {
     "name": "stdout",
     "output_type": "stream",
     "text": [
      "progress label:  4 6 8 10 12 14 \n",
      "( E(e) G(g) I(i) K(k) M(m) O(o) )\n"
     ]
    }
   ],
   "source": [
    "# Just for reference: see actual samples\n",
    "\n",
    "load_sample = np.load('./sample_data.npy', allow_pickle=True).item()\n",
    "sample_data, sample_label = load_sample['train_data'], load_sample['train_label']\n",
    "print(len(sample_data))\n",
    "\n",
    "plt.figure(figsize=(len(sample_data),len(sample_data)))\n",
    "for i in range(len(sample_data)):\n",
    "    plt.subplot(1, len(sample_data), i+1)\n",
    "    ax = plt.gca()\n",
    "    ax.axes.xaxis.set_ticklabels([])\n",
    "    ax.axes.yaxis.set_ticklabels([])\n",
    "    plt.imshow(sample_data[i], cmap='gray')\n",
    "    \n",
    "plt.show()\n",
    "print(\"progress label: \", end=' ')\n",
    "label_str = '('\n",
    "\n",
    "for i in range(len(sample_label)):\n",
    "    print(int(sample_label[i]), end=' ')\n",
    "    label_str += \" \" + list(alphabet.keys())[int(sample_label[i])]\n",
    "label_str += \" )\"\n",
    "print()\n",
    "print(label_str)"
   ]
  },
  {
   "cell_type": "code",
   "execution_count": 4,
   "metadata": {},
   "outputs": [],
   "source": [
    "# Use 0th GPU for training\n",
    "torch.cuda.set_device(0)"
   ]
  },
  {
   "cell_type": "code",
   "execution_count": 5,
   "metadata": {},
   "outputs": [
    {
     "name": "stdout",
     "output_type": "stream",
     "text": [
      "env: CUBLAS_WORKSPACE_CONFIG=:16:8\n"
     ]
    }
   ],
   "source": [
    "# fix random seed to increase reproducibility\n",
    "# NOTE: Do not modify here!\n",
    "\n",
    "random_seed = 7\n",
    "torch.manual_seed(random_seed)\n",
    "os.environ['PYTHONHASHSEED'] = str(random_seed)\n",
    "np.random.seed(random_seed)\n",
    "random.seed(random_seed)\n",
    "torch.cuda.manual_seed(random_seed)\n",
    "\n",
    "torch.backends.cudnn.benchmark = False\n",
    "torch.backends.cudnn.deterministic = True\n",
    "%env CUBLAS_WORKSPACE_CONFIG=:16:8\n",
    "\n",
    "def seed_worker(worker_seed):\n",
    "    np.random.seed(worker_seed)\n",
    "    random.seed(worker_seed)\n",
    "    \n",
    "# you can modify this\n",
    "num_workers = 1"
   ]
  },
  {
   "cell_type": "code",
   "execution_count": 6,
   "metadata": {},
   "outputs": [],
   "source": [
    "# NOTE: you can modify mean and std for normalization\n",
    "transform = transforms.Compose([\n",
    "    transforms.ToTensor(),\n",
    "    #transforms.Normalize((0.485), (0.230)),\n",
    "    #transforms.RandomRotation((-90,90), interpolation=transforms.InterpolationMode.BILINEAR),\n",
    "    #transforms.GaussianBlur(3, sigma=(0.1, 2.0))\n",
    "])\n",
    "\n",
    "batch_size = 256"
   ]
  },
  {
   "cell_type": "code",
   "execution_count": 7,
   "metadata": {},
   "outputs": [
    {
     "name": "stdout",
     "output_type": "stream",
     "text": [
      "0 load from 0 to 5000\n",
      "1 load from 5000 to 10000\n",
      "2 load from 10000 to 15000\n",
      "3 load from 15000 to 20000\n",
      "4 load from 20000 to 25000\n",
      "5 load from 25000 to 30000\n",
      "6 load from 30000 to 35000\n",
      "7 load from 35000 to 40000\n",
      "8 load from 40000 to 45000\n",
      "9 load from 45000 to 50000\n",
      "0 load from 0 to 5000\n",
      "1 load from 5000 to 10000\n"
     ]
    }
   ],
   "source": [
    "# NOTE: modify path for your setting\n",
    "\n",
    "from data_utils import Mydataset, collate_fn\n",
    "\n",
    "train_path = './train'\n",
    "valid_path = './valid'\n",
    "\n",
    "train_ds = Mydataset(train_path, transform=transform, train=True)\n",
    "valid_ds = Mydataset(valid_path, transform=transform, train=False)\n",
    "\n",
    "train_dl = DataLoader(train_ds, batch_size=batch_size, collate_fn=collate_fn, shuffle=True)\n",
    "valid_dl= DataLoader(valid_ds, batch_size=batch_size, collate_fn=collate_fn, shuffle=False)"
   ]
  },
  {
   "cell_type": "code",
   "execution_count": 15,
   "metadata": {},
   "outputs": [],
   "source": [
    "import time\n",
    "\n",
    "train_acc = []\n",
    "val_acc = []\n",
    "train_loss = []\n",
    "\n",
    "def train(model, model_optim, loss_func, max_epoch, train_dl, valid_dl, \n",
    "          load_path=None, save_path='./model.pt'):\n",
    "    # Load your states\n",
    "    loaded_epoch = 0\n",
    "    loaded_best_acc = -1\n",
    "    if load_path is not None:\n",
    "        state = torch.load(load_path)\n",
    "        model.load_state_dict(state[\"model\"])\n",
    "        model_optim.load_state_dict(state[\"optimizer\"])\n",
    "        loaded_epoch = state[\"epoch\"]\n",
    "        loaded_best_acc = state[\"best_acc\"]\n",
    "        # ...\n",
    "    start_time = time.time()\n",
    "    \n",
    "    best_valid_accuracy = 0 if loaded_best_acc == -1 else loaded_best_acc\n",
    "    \n",
    "    for epoch in np.array(list(range(max_epoch - loaded_epoch))) + loaded_epoch:\n",
    "        n_samples = 0\n",
    "        n_correct = 0\n",
    "        avg_loss = 0\n",
    "        model.train()\n",
    "        for step, sample in enumerate(train_dl):\n",
    "            img, label = sample\n",
    "                       \n",
    "            outputs = model((img, label))\n",
    "\n",
    "            # img(list) : Batch x [5, 1, 28, 28]\n",
    "            # x(tensor) : [batch * 5, 1, 28, 28]\n",
    "            # label(tensor): [batch, 6, 26]\n",
    "            # outputs(tensor): [batch, 26]\n",
    "            \n",
    "            model_optim.zero_grad()\n",
    "            \n",
    "            l = list(zip(*label))[-1]\n",
    "            l = torch.Tensor(l).cuda()\n",
    "            \n",
    "            loss = loss_func(outputs[:,-1,:].squeeze(), l.long())\n",
    "            \n",
    "            loss.backward()\n",
    "            model_optim.step()\n",
    "\n",
    "            n_samples += len(label)\n",
    "            for j in range(len(label)):\n",
    "                n_correct += (outputs[j].argmax(-1)[-1] == label[j][-1].cuda()).sum().item()        \n",
    "            avg_loss += loss.item()\n",
    "            \n",
    "            if (step + 1) % print_interval == 0:\n",
    "                print('epoch:', epoch + 1, 'step:', step + 1, 'loss:', loss.item(), 'accuracy:', 100 * (n_correct / n_samples))\n",
    "                elapsed_time = time.time() - start_time\n",
    "                print('elapsed time : %d h %d m %d s' % (elapsed_time / 3600, (elapsed_time % 3600) / 60, (elapsed_time % 60)))    \n",
    "            train_acc.append(100 * n_correct / n_samples)\n",
    "            train_loss.append(avg_loss / n_samples)\n",
    "            \n",
    "        n_samples = 0\n",
    "        n_correct = 0\n",
    "        model.eval()\n",
    "        with torch.no_grad():\n",
    "            for step, sample in enumerate(valid_dl):\n",
    "                img, label = sample\n",
    "                \n",
    "                outputs = model(img)\n",
    "                           \n",
    "                n_samples += len(label)\n",
    "                for j in range(len(label)):\n",
    "                    n_correct += (outputs[j].argmax(-1)[-1] == label[j][-1].cuda()).sum().item()        \n",
    "                    # print(f'{outputs[j,:].argmax(-1).item()}, {label[j,-1,:].argmax(-1)}')\n",
    "            valid_accuracy = 100 * (n_correct / n_samples)\n",
    "            val_acc.append(valid_accuracy)\n",
    "            if valid_accuracy > best_valid_accuracy:\n",
    "                state = {\n",
    "                    \"model\": model.state_dict(),\n",
    "                    \"optimizer\": model_optim.state_dict(),\n",
    "                    \"epoch\": epoch + 1,\n",
    "                    \"best_acc\": best_valid_accuracy,\n",
    "                    # ...\n",
    "                }\n",
    "                torch.save(state, save_path)\n",
    "                best_valid_accuracy = valid_accuracy\n",
    "            print('Valid epoch: %d, Valid accuracy: %.2f, Best valid accuracy: %.2f' % (epoch + 1, valid_accuracy, best_valid_accuracy))\n",
    "\n",
    "def eval(valid_dl, load_path):\n",
    "    state = torch.load(load_path)\n",
    "    model.load_state_dict(state[\"model\"])\n",
    "    n_samples = 0\n",
    "    n_correct = 0\n",
    "    model.eval()\n",
    "    with torch.no_grad():\n",
    "        for step, sample in enumerate(valid_dl):\n",
    "            img, label = sample\n",
    "\n",
    "            outputs = model(img)\n",
    "                               \n",
    "            n_samples += len(label)\n",
    "            for j in range(len(label)):\n",
    "                n_correct += (outputs[j].argmax(-1)[-1] == label[j][-1].cuda()).sum().item()        \n",
    "                # print(f'{outputs[j,:].argmax(-1).item()}, {label[j,-1,:].argmax(-1)}')\n",
    "        \n",
    "    valid_accuracy = 100 * (n_correct / n_samples)\n",
    "    print('Valid accuracy: %.2f' % (valid_accuracy))"
   ]
  },
  {
   "cell_type": "code",
   "execution_count": 16,
   "metadata": {},
   "outputs": [],
   "source": [
    "# You can add or modify your ConvLSTM's hyperparameter (keys and values)\n",
    "kwargs = {\n",
    "    'cnn_input_dim': 1,\n",
    "    'cnn_hidden_size': 16,\n",
    "    'rnn_input_dim': 64,\n",
    "    'rnn_hidden_size': 32,\n",
    "    'rnn_num_layers': 1,\n",
    "    'batch_size': batch_size\n",
    "}\n",
    "\n",
    "NUM_CLASSES = 26\n",
    "SEQUENCE_LENGTH = 5"
   ]
  },
  {
   "cell_type": "code",
   "execution_count": 17,
   "metadata": {
    "scrolled": false
   },
   "outputs": [
    {
     "name": "stdout",
     "output_type": "stream",
     "text": [
      "ConvLSTM(\n",
      "  (conv): CustomCNN(\n",
      "    (conv1): Conv2d(1, 32, kernel_size=(3, 3), stride=(1, 1), padding=(1, 1))\n",
      "    (maxpool): MaxPool2d(kernel_size=2, stride=2, padding=0, dilation=1, ceil_mode=False)\n",
      "    (relu): ReLU(inplace=True)\n",
      "    (fc): Linear(in_features=6272, out_features=64, bias=True)\n",
      "  )\n",
      "  (lstm): LSTM(\n",
      "    (lstm): LSTM(32, 32, batch_first=True)\n",
      "    (fc_in): Linear(in_features=64, out_features=32, bias=True)\n",
      "    (fc_out): Linear(in_features=32, out_features=26, bias=True)\n",
      "  )\n",
      ")\n"
     ]
    }
   ],
   "source": [
    "# for reload .py file without restart\n",
    "import models_easy\n",
    "import importlib\n",
    "\n",
    "importlib.reload(models_easy)\n",
    "\n",
    "from models_easy import ConvLSTM\n",
    "\n",
    "model = ConvLSTM(sequence_length=SEQUENCE_LENGTH, num_classes=NUM_CLASSES, **kwargs).cuda()\n",
    "print(model)\n",
    "\n",
    "model_optim = optim.Adam(params=model.parameters(), lr=0.001)\n",
    "loss_func = nn.CrossEntropyLoss()"
   ]
  },
  {
   "cell_type": "code",
   "execution_count": 18,
   "metadata": {},
   "outputs": [],
   "source": [
    "print_interval = 50\n",
    "max_epoch = 10"
   ]
  },
  {
   "cell_type": "code",
   "execution_count": 19,
   "metadata": {
    "scrolled": false
   },
   "outputs": [
    {
     "name": "stdout",
     "output_type": "stream",
     "text": [
      "epoch: 1 step: 50 loss: 2.7940304279327393 accuracy: 13.140625\n",
      "elapsed time : 0 h 0 m 2 s\n",
      "epoch: 1 step: 100 loss: 2.247584342956543 accuracy: 21.76953125\n",
      "elapsed time : 0 h 0 m 5 s\n",
      "epoch: 1 step: 150 loss: 1.9197139739990234 accuracy: 27.815104166666664\n",
      "elapsed time : 0 h 0 m 8 s\n",
      "Valid epoch: 1, Valid accuracy: 53.01, Best valid accuracy: 53.01\n",
      "epoch: 2 step: 50 loss: 1.3933528661727905 accuracy: 57.40625\n",
      "elapsed time : 0 h 0 m 15 s\n",
      "epoch: 2 step: 100 loss: 1.185274600982666 accuracy: 61.79296875\n",
      "elapsed time : 0 h 0 m 18 s\n",
      "epoch: 2 step: 150 loss: 1.0021287202835083 accuracy: 65.1484375\n",
      "elapsed time : 0 h 0 m 21 s\n",
      "Valid epoch: 2, Valid accuracy: 77.62, Best valid accuracy: 77.62\n",
      "epoch: 3 step: 50 loss: 0.7918174862861633 accuracy: 81.765625\n",
      "elapsed time : 0 h 0 m 28 s\n",
      "epoch: 3 step: 100 loss: 0.6522917151451111 accuracy: 83.6328125\n",
      "elapsed time : 0 h 0 m 31 s\n",
      "epoch: 3 step: 150 loss: 0.5590787529945374 accuracy: 85.453125\n",
      "elapsed time : 0 h 0 m 33 s\n",
      "Valid epoch: 3, Valid accuracy: 92.23, Best valid accuracy: 92.23\n",
      "epoch: 4 step: 50 loss: 0.4753582179546356 accuracy: 93.859375\n",
      "elapsed time : 0 h 0 m 51 s\n",
      "epoch: 4 step: 100 loss: 0.3495429456233978 accuracy: 94.83203125\n",
      "elapsed time : 0 h 0 m 58 s\n",
      "epoch: 4 step: 150 loss: 0.3092202842235565 accuracy: 95.44270833333334\n",
      "elapsed time : 0 h 1 m 4 s\n",
      "Valid epoch: 4, Valid accuracy: 96.96, Best valid accuracy: 96.96\n",
      "epoch: 5 step: 50 loss: 0.22178082168102264 accuracy: 97.71875\n",
      "elapsed time : 0 h 1 m 22 s\n",
      "epoch: 5 step: 100 loss: 0.18232636153697968 accuracy: 97.87109375\n",
      "elapsed time : 0 h 1 m 29 s\n",
      "epoch: 5 step: 150 loss: 0.14194940030574799 accuracy: 97.97135416666667\n",
      "elapsed time : 0 h 1 m 36 s\n",
      "Valid epoch: 5, Valid accuracy: 98.19, Best valid accuracy: 98.19\n",
      "epoch: 6 step: 50 loss: 0.12839677929878235 accuracy: 98.75\n",
      "elapsed time : 0 h 1 m 53 s\n",
      "epoch: 6 step: 100 loss: 0.10641870647668839 accuracy: 98.79296875\n",
      "elapsed time : 0 h 2 m 0 s\n",
      "epoch: 6 step: 150 loss: 0.10634582489728928 accuracy: 98.8515625\n",
      "elapsed time : 0 h 2 m 7 s\n",
      "Valid epoch: 6, Valid accuracy: 98.79, Best valid accuracy: 98.79\n",
      "epoch: 7 step: 50 loss: 0.07989075779914856 accuracy: 99.3671875\n",
      "elapsed time : 0 h 2 m 25 s\n",
      "epoch: 7 step: 100 loss: 0.08017534017562866 accuracy: 99.33203125\n",
      "elapsed time : 0 h 2 m 31 s\n",
      "epoch: 7 step: 150 loss: 0.06513793021440506 accuracy: 99.27864583333333\n",
      "elapsed time : 0 h 2 m 38 s\n",
      "Valid epoch: 7, Valid accuracy: 99.16, Best valid accuracy: 99.16\n",
      "epoch: 8 step: 50 loss: 0.06301895529031754 accuracy: 99.5\n",
      "elapsed time : 0 h 2 m 56 s\n",
      "epoch: 8 step: 100 loss: 0.06925415247678757 accuracy: 99.4921875\n",
      "elapsed time : 0 h 3 m 3 s\n",
      "epoch: 8 step: 150 loss: 0.0464150570333004 accuracy: 99.51041666666667\n",
      "elapsed time : 0 h 3 m 9 s\n",
      "Valid epoch: 8, Valid accuracy: 99.34, Best valid accuracy: 99.34\n",
      "epoch: 9 step: 50 loss: 0.04561329260468483 accuracy: 99.609375\n",
      "elapsed time : 0 h 3 m 27 s\n",
      "epoch: 9 step: 100 loss: 0.029407190158963203 accuracy: 99.67578125\n",
      "elapsed time : 0 h 3 m 34 s\n",
      "epoch: 9 step: 150 loss: 0.03430822119116783 accuracy: 99.66927083333333\n",
      "elapsed time : 0 h 3 m 41 s\n",
      "Valid epoch: 9, Valid accuracy: 99.46, Best valid accuracy: 99.46\n",
      "epoch: 10 step: 50 loss: 0.027506811544299126 accuracy: 99.796875\n",
      "elapsed time : 0 h 3 m 59 s\n",
      "epoch: 10 step: 100 loss: 0.027766115963459015 accuracy: 99.78515625\n",
      "elapsed time : 0 h 4 m 5 s\n",
      "epoch: 10 step: 150 loss: 0.02634044736623764 accuracy: 99.78125\n",
      "elapsed time : 0 h 4 m 12 s\n",
      "Valid epoch: 10, Valid accuracy: 99.50, Best valid accuracy: 99.50\n"
     ]
    }
   ],
   "source": [
    "load_path = None\n",
    "train(model, model_optim, loss_func, max_epoch, train_dl, valid_dl, load_path=load_path, save_path='./model.pt')"
   ]
  },
  {
   "cell_type": "code",
   "execution_count": 20,
   "metadata": {},
   "outputs": [
    {
     "name": "stdout",
     "output_type": "stream",
     "text": [
      "Valid accuracy: 99.50\n"
     ]
    }
   ],
   "source": [
    "# load and evaluate model\n",
    "load_path = './model.pt'\n",
    "eval(valid_dl, load_path)"
   ]
  },
  {
   "cell_type": "code",
   "execution_count": 36,
   "metadata": {},
   "outputs": [
    {
     "data": {
      "image/png": "[encoded data removed]",
      "text/plain": [
       "<Figure size 504x288 with 1 Axes>"
      ]
     },
     "metadata": {
      "needs_background": "light"
     },
     "output_type": "display_data"
    },
    {
     "data": {
      "image/png": "[encoded data removed]",
      "text/plain": [
       "<Figure size 504x288 with 1 Axes>"
      ]
     },
     "metadata": {
      "needs_background": "light"
     },
     "output_type": "display_data"
    }
   ],
   "source": [
    "x = np.linspace(1,2000,10)\n",
    "\n",
    "fig, ax = plt.subplots(figsize=(7,4))\n",
    "ax.plot(train_acc, label='Train Accuracy', color='black', linestyle='dashed', linewidth=3)\n",
    "ax.plot(x, val_acc, label='Val Accuracy', color='black', linewidth=3) \n",
    "plt.xlabel('Minibatches')\n",
    "plt.ylabel('Accuracy (%)')\n",
    "plt.legend()\n",
    "plt.show()\n",
    "\n",
    "fig, ax = plt.subplots(figsize=(7,4))\n",
    "ax.plot(train_loss, label='Train Loss', color='black', linewidth=3)\n",
    "plt.xlabel('Minibatches')\n",
    "plt.ylabel('Loss')\n",
    "plt.show()"
   ]
  },
  {
   "cell_type": "markdown",
   "metadata": {},
   "source": [
    "### Test code for grading by TA"
   ]
  },
  {
   "cell_type": "code",
   "execution_count": null,
   "metadata": {},
   "outputs": [],
   "source": [
    "# you do not need to modify here\n",
    "from data_utils import Mydataset, collate_fn\n",
    "\n",
    "test_path = './data/emnist_progress_easy_data/test'\n",
    "test_ds = Mydataset(test_path, transform=transform, train=False)\n",
    "test_dl= DataLoader(test_ds, batch_size=batch_size, collate_fn=collate_fn, shuffle=False)"
   ]
  },
  {
   "cell_type": "code",
   "execution_count": null,
   "metadata": {},
   "outputs": [],
   "source": [
    "# please change the model name to your submission model name\n",
    "load_path = './model.pt'\n",
    "eval(test_dl, load_path)"
   ]
  }
 ],
 "metadata": {
  "kernelspec": {
   "display_name": "Python 3",
   "language": "python",
   "name": "python3"
  },
  "language_info": {
   "codemirror_mode": {
    "name": "ipython",
    "version": 3
   },
   "file_extension": ".py",
   "mimetype": "text/x-python",
   "name": "python",
   "nbconvert_exporter": "python",
   "pygments_lexer": "ipython3",
   "version": "3.6.9"
  }
 },
 "nbformat": 4,
 "nbformat_minor": 1
}
