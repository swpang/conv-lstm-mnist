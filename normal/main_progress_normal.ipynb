{
 "cells": [
  {
   "cell_type": "markdown",
   "metadata": {},
   "source": [
    "## Environment Setting\n",
    "Google drive mount (for Colab users) and package importing.\n",
    "You can optionally install and import torchensemble package for ensemble learning"
   ]
  },
  {
   "cell_type": "code",
   "execution_count": 1,
   "metadata": {},
   "outputs": [],
   "source": [
    "import os\n",
    "import numpy as np\n",
    "import torch\n",
    "import torch.nn as nn\n",
    "import random  \n",
    "import torchvision.transforms as transforms\n",
    "import torch.nn.functional as F\n",
    "import torch.optim as optim\n",
    "from torch.utils.data import DataLoader\n",
    "import importlib"
   ]
  },
  {
   "cell_type": "markdown",
   "metadata": {},
   "source": [
    "## (Optional) Sample Visualization\n",
    "You can see actual sample images and sorted class indices. Additional matplotlib package is needed."
   ]
  },
  {
   "cell_type": "code",
   "execution_count": 2,
   "metadata": {},
   "outputs": [],
   "source": [
    "# Just for reference: see actual samples\n",
    "import matplotlib.pyplot as plt\n",
    "\n",
    "alphabet = {\n",
    "        'A(a)' : '0', 'B(b)' : '1', 'C(c)' : '2', 'D(d)' : '3', 'E(e)' : '4', 'F(f)' : '5', \n",
    "        'G(g)' : '6', 'H(h)' : '7', 'I(i)' : '8', 'J(j)' : '9', 'K(k)' : '10','L(l)' : '11', \n",
    "        'M(m)' : '12', 'N(n)' : '13', 'O(o)' : '14', 'P(p)' : '15', 'Q(q)' : '16', 'R(r)' : '17', \n",
    "        'S(s)' : '18', 'T(t)' : '19', 'U(u)' : '20', 'V(v)' : '21', 'W(w)' : '22', 'X(x)' : '23', \n",
    "        'Y(y)' : '24', 'Z(z)' : '25'\n",
    "    }"
   ]
  },
  {
   "cell_type": "code",
   "execution_count": 3,
   "metadata": {
    "scrolled": true
   },
   "outputs": [
    {
     "name": "stdout",
     "output_type": "stream",
     "text": [
      "7\n"
     ]
    },
    {
     "data": {
      "image/png": "[encoded data removed]",
      "text/plain": [
       "<Figure size 504x504 with 7 Axes>"
      ]
     },
     "metadata": {
      "needs_background": "light"
     },
     "output_type": "display_data"
    },
    {
     "name": "stdout",
     "output_type": "stream",
     "text": [
      "progress label:  8 10 12 14 16 18 20 22 \n",
      "( I(i) K(k) M(m) O(o) Q(q) S(s) U(u) W(w) )\n"
     ]
    }
   ],
   "source": [
    "# Just for reference: see actual samples\n",
    "\n",
    "load_sample = np.load('./sample_data_normal.npy', allow_pickle=True).item()\n",
    "sample_data, sample_label = load_sample['train_data'], load_sample['train_label']\n",
    "print(len(sample_data))\n",
    "\n",
    "plt.figure(figsize=(len(sample_data),len(sample_data)))\n",
    "for i in range(len(sample_data)):\n",
    "    plt.subplot(1, len(sample_data), i+1)\n",
    "    ax = plt.gca()\n",
    "    ax.axes.xaxis.set_ticklabels([])\n",
    "    ax.axes.yaxis.set_ticklabels([])\n",
    "    plt.imshow(sample_data[i], cmap='gray')\n",
    "    \n",
    "plt.show()\n",
    "print(\"progress label: \", end=' ')\n",
    "label_str = '('\n",
    "\n",
    "for i in range(len(sample_label)):\n",
    "    print(int(sample_label[i]), end=' ')\n",
    "    label_str += \" \" + list(alphabet.keys())[int(sample_label[i])]\n",
    "label_str += \" )\"\n",
    "print()\n",
    "print(label_str)"
   ]
  },
  {
   "cell_type": "code",
   "execution_count": 4,
   "metadata": {},
   "outputs": [],
   "source": [
    "# Use 0th GPU for training\n",
    "torch.cuda.set_device(0)"
   ]
  },
  {
   "cell_type": "code",
   "execution_count": 5,
   "metadata": {},
   "outputs": [
    {
     "name": "stdout",
     "output_type": "stream",
     "text": [
      "env: CUBLAS_WORKSPACE_CONFIG=:16:8\n"
     ]
    }
   ],
   "source": [
    "# fix random seed to increase reproducibility\n",
    "# NOTE: Do not modify here!\n",
    "\n",
    "random_seed = 7\n",
    "torch.manual_seed(random_seed)\n",
    "os.environ['PYTHONHASHSEED'] = str(random_seed)\n",
    "np.random.seed(random_seed)\n",
    "random.seed(random_seed)\n",
    "torch.cuda.manual_seed(random_seed)\n",
    "\n",
    "torch.backends.cudnn.benchmark = False\n",
    "torch.backends.cudnn.deterministic = True\n",
    "%env CUBLAS_WORKSPACE_CONFIG=:16:8\n",
    "\n",
    "def seed_worker(worker_seed):\n",
    "    np.random.seed(worker_seed)\n",
    "    random.seed(worker_seed)\n",
    "    \n",
    "# you can modify this\n",
    "num_workers = 1"
   ]
  },
  {
   "cell_type": "code",
   "execution_count": 6,
   "metadata": {},
   "outputs": [],
   "source": [
    "# NOTE: you can modify mean and std for normalization\n",
    "transform = transforms.Compose([\n",
    "    transforms.ToTensor(),\n",
    "    transforms.Normalize((0.1307,), (0.3081,)),\n",
    "#    transforms.RandomRotation((-90,90), interpolation=transforms.InterpolationMode.BILINEAR),\n",
    "#    transforms.GaussianBlur(3, sigma=(0.1, 2.0))\n",
    "])\n",
    "\n",
    "batch_size = 256"
   ]
  },
  {
   "cell_type": "code",
   "execution_count": 7,
   "metadata": {},
   "outputs": [
    {
     "name": "stdout",
     "output_type": "stream",
     "text": [
      "0 load from 0 to 5000\n",
      "1 load from 5000 to 10000\n",
      "2 load from 10000 to 15000\n",
      "3 load from 15000 to 20000\n",
      "4 load from 20000 to 25000\n",
      "5 load from 25000 to 30000\n",
      "6 load from 30000 to 35000\n",
      "7 load from 35000 to 40000\n",
      "8 load from 40000 to 45000\n",
      "9 load from 45000 to 50000\n",
      "0 load from 0 to 5000\n",
      "1 load from 5000 to 10000\n"
     ]
    }
   ],
   "source": [
    "# NOTE: modify path for your setting\n",
    "\n",
    "from data_utils import Mydataset, collate_fn\n",
    "\n",
    "train_path = './train'\n",
    "valid_path = './valid'\n",
    "\n",
    "train_ds = Mydataset(train_path, transform=transform, train=True)\n",
    "valid_ds = Mydataset(valid_path, transform=transform, train=False)\n",
    "\n",
    "train_dl = DataLoader(train_ds, batch_size=batch_size, collate_fn=collate_fn, shuffle=True)\n",
    "valid_dl= DataLoader(valid_ds, batch_size=batch_size, collate_fn=collate_fn, shuffle=False)"
   ]
  },
  {
   "cell_type": "code",
   "execution_count": 8,
   "metadata": {},
   "outputs": [],
   "source": [
    "import time\n",
    "\n",
    "train_acc = []\n",
    "val_acc = []\n",
    "train_loss = []\n",
    "\n",
    "def train(model, model_optim, loss_func, max_epoch, train_dl, valid_dl, \n",
    "          load_path=None, save_path='./model.pt'):\n",
    "    # Load your states\n",
    "    loaded_epoch = 0\n",
    "    loaded_best_acc = -1\n",
    "    if load_path is not None:\n",
    "        state = torch.load(load_path)\n",
    "        model.load_state_dict(state[\"model\"])\n",
    "        model_optim.load_state_dict(state[\"optimizer\"])\n",
    "        loaded_epoch = state[\"epoch\"]\n",
    "        loaded_best_acc = state[\"best_acc\"]\n",
    "    start_time = time.time()\n",
    "    \n",
    "    best_valid_accuracy = 0 if loaded_best_acc == -1 else loaded_best_acc\n",
    "    \n",
    "    for epoch in np.array(list(range(max_epoch - loaded_epoch))) + loaded_epoch:\n",
    "        n_samples = 0\n",
    "        n_correct = 0\n",
    "        avg_loss = 0\n",
    "        model.train()\n",
    "        for step, sample in enumerate(train_dl):\n",
    "            img, label = sample\n",
    "                       \n",
    "            outputs = model((img, label))\n",
    "            \n",
    "            model_optim.zero_grad()\n",
    "            \n",
    "            verif_list = []\n",
    "            for i in range(len(label)):\n",
    "              verif_list.append(label[i][-1])\n",
    "            \n",
    "            verif_label = torch.tensor(verif_list)\n",
    "            verif_label = verif_label.cuda()\n",
    "\n",
    "            loss = loss_func(outputs, verif_label.long())\n",
    "            \n",
    "            loss.backward()\n",
    "            model_optim.step()\n",
    "\n",
    "            n_samples += len(label)\n",
    "            for j in range(len(label)):\n",
    "                n_correct += (outputs[j].argmax(-1) == label[j][-1].cuda()).sum().item()        \n",
    "            avg_loss += loss.item()\n",
    "            if (step + 1) % print_interval == 0:\n",
    "                print('epoch:', epoch + 1, 'step:', step + 1, 'loss:', loss.item(), 'accuracy:', 100 * (n_correct / n_samples))\n",
    "                elapsed_time = time.time() - start_time\n",
    "                print('elapsed time : %d h %d m %d s' % (elapsed_time / 3600, (elapsed_time % 3600) / 60, (elapsed_time % 60)))\n",
    "            train_acc.append(100 * n_correct / n_samples)\n",
    "            train_loss.append(avg_loss / n_samples)\n",
    "                \n",
    "        n_samples = 0\n",
    "        n_correct = 0\n",
    "        model.eval()\n",
    "        with torch.no_grad():\n",
    "            for step, sample in enumerate(valid_dl):\n",
    "                img, label = sample\n",
    "                \n",
    "                outputs = model(img)\n",
    "                           \n",
    "                n_samples += len(label)\n",
    "                for j in range(len(label)):\n",
    "                    n_correct += (outputs[j].argmax(-1) == label[j][-1].cuda()).sum().item()        \n",
    "            valid_accuracy = 100 * (n_correct / n_samples)\n",
    "            val_acc.append(valid_accuracy)\n",
    "            if valid_accuracy > best_valid_accuracy:\n",
    "                state = {\n",
    "                    \"model\": model.state_dict(),\n",
    "                    \"optimizer\": model_optim.state_dict(),\n",
    "                    \"epoch\": epoch + 1,\n",
    "                    \"best_acc\": best_valid_accuracy,\n",
    "                }\n",
    "                torch.save(state, save_path)\n",
    "                best_valid_accuracy = valid_accuracy\n",
    "            print('Valid epoch: %d, Valid accuracy: %.2f, Best valid accuracy: %.2f' % (epoch + 1, valid_accuracy, best_valid_accuracy))\n",
    "\n",
    "def eval(valid_dl, load_path):\n",
    "    state = torch.load(load_path)\n",
    "    model.load_state_dict(state[\"model\"])\n",
    "    n_samples = 0\n",
    "    n_correct = 0\n",
    "    model.eval()\n",
    "    with torch.no_grad():\n",
    "        for step, sample in enumerate(valid_dl):\n",
    "            img, label = sample\n",
    "\n",
    "            outputs = model(img)\n",
    "                               \n",
    "            n_samples += len(label)\n",
    "            for j in range(len(label)):\n",
    "                n_correct += (outputs[j].argmax(-1) == label[j][-1].cuda()).sum().item()        \n",
    "        \n",
    "    valid_accuracy = 100 * (n_correct / n_samples)\n",
    "    print('Valid accuracy: %.2f' % (valid_accuracy))"
   ]
  },
  {
   "cell_type": "code",
   "execution_count": 9,
   "metadata": {},
   "outputs": [],
   "source": [
    "# You can add or modify your ConvLSTM's hyperparameter (keys and values)\n",
    "kwargs = {\n",
    "    'rnn_input_dim': 256,\n",
    "    'rnn_hidden_size': 256,\n",
    "    'rnn_num_layers': 2,\n",
    "    'cnn_layers': [2,2,2],\n",
    "    'bidirectional': True,\n",
    "    'dropout': 0.2,\n",
    "    'batch_size': batch_size\n",
    "}\n",
    "\n",
    "NUM_CLASSES = 26\n",
    "SEQUENCE_LENGTH = None"
   ]
  },
  {
   "cell_type": "code",
   "execution_count": 10,
   "metadata": {},
   "outputs": [
    {
     "name": "stdout",
     "output_type": "stream",
     "text": [
      "ConvLSTM(\n",
      "  (conv): CustomCNN(\n",
      "    (conv): Conv2d(1, 16, kernel_size=(3, 3), stride=(1, 1), padding=(1, 1), bias=False)\n",
      "    (bn): BatchNorm2d(16, eps=1e-05, momentum=0.1, affine=True, track_running_stats=True)\n",
      "    (relu): ReLU(inplace=True)\n",
      "    (layer1): Sequential(\n",
      "      (0): ResidualBlock(\n",
      "        (conv1): Conv2d(16, 16, kernel_size=(3, 3), stride=(1, 1), padding=(1, 1), bias=False)\n",
      "        (bn1): BatchNorm2d(16, eps=1e-05, momentum=0.1, affine=True, track_running_stats=True)\n",
      "        (relu): ReLU(inplace=True)\n",
      "        (conv2): Conv2d(16, 16, kernel_size=(3, 3), stride=(1, 1), padding=(1, 1), bias=False)\n",
      "        (bn2): BatchNorm2d(16, eps=1e-05, momentum=0.1, affine=True, track_running_stats=True)\n",
      "      )\n",
      "      (1): ResidualBlock(\n",
      "        (conv1): Conv2d(16, 16, kernel_size=(3, 3), stride=(1, 1), padding=(1, 1), bias=False)\n",
      "        (bn1): BatchNorm2d(16, eps=1e-05, momentum=0.1, affine=True, track_running_stats=True)\n",
      "        (relu): ReLU(inplace=True)\n",
      "        (conv2): Conv2d(16, 16, kernel_size=(3, 3), stride=(1, 1), padding=(1, 1), bias=False)\n",
      "        (bn2): BatchNorm2d(16, eps=1e-05, momentum=0.1, affine=True, track_running_stats=True)\n",
      "      )\n",
      "    )\n",
      "    (layer2): Sequential(\n",
      "      (0): ResidualBlock(\n",
      "        (conv1): Conv2d(16, 32, kernel_size=(3, 3), stride=(2, 2), padding=(1, 1), bias=False)\n",
      "        (bn1): BatchNorm2d(32, eps=1e-05, momentum=0.1, affine=True, track_running_stats=True)\n",
      "        (relu): ReLU(inplace=True)\n",
      "        (conv2): Conv2d(32, 32, kernel_size=(3, 3), stride=(1, 1), padding=(1, 1), bias=False)\n",
      "        (bn2): BatchNorm2d(32, eps=1e-05, momentum=0.1, affine=True, track_running_stats=True)\n",
      "        (downsample): Sequential(\n",
      "          (0): Conv2d(16, 32, kernel_size=(3, 3), stride=(2, 2), padding=(1, 1), bias=False)\n",
      "          (1): BatchNorm2d(32, eps=1e-05, momentum=0.1, affine=True, track_running_stats=True)\n",
      "        )\n",
      "      )\n",
      "      (1): ResidualBlock(\n",
      "        (conv1): Conv2d(32, 32, kernel_size=(3, 3), stride=(1, 1), padding=(1, 1), bias=False)\n",
      "        (bn1): BatchNorm2d(32, eps=1e-05, momentum=0.1, affine=True, track_running_stats=True)\n",
      "        (relu): ReLU(inplace=True)\n",
      "        (conv2): Conv2d(32, 32, kernel_size=(3, 3), stride=(1, 1), padding=(1, 1), bias=False)\n",
      "        (bn2): BatchNorm2d(32, eps=1e-05, momentum=0.1, affine=True, track_running_stats=True)\n",
      "      )\n",
      "    )\n",
      "    (layer3): Sequential(\n",
      "      (0): ResidualBlock(\n",
      "        (conv1): Conv2d(32, 64, kernel_size=(3, 3), stride=(1, 1), padding=(1, 1), bias=False)\n",
      "        (bn1): BatchNorm2d(64, eps=1e-05, momentum=0.1, affine=True, track_running_stats=True)\n",
      "        (relu): ReLU(inplace=True)\n",
      "        (conv2): Conv2d(64, 64, kernel_size=(3, 3), stride=(1, 1), padding=(1, 1), bias=False)\n",
      "        (bn2): BatchNorm2d(64, eps=1e-05, momentum=0.1, affine=True, track_running_stats=True)\n",
      "        (downsample): Sequential(\n",
      "          (0): Conv2d(32, 64, kernel_size=(3, 3), stride=(1, 1), padding=(1, 1), bias=False)\n",
      "          (1): BatchNorm2d(64, eps=1e-05, momentum=0.1, affine=True, track_running_stats=True)\n",
      "        )\n",
      "      )\n",
      "      (1): ResidualBlock(\n",
      "        (conv1): Conv2d(64, 64, kernel_size=(3, 3), stride=(1, 1), padding=(1, 1), bias=False)\n",
      "        (bn1): BatchNorm2d(64, eps=1e-05, momentum=0.1, affine=True, track_running_stats=True)\n",
      "        (relu): ReLU(inplace=True)\n",
      "        (conv2): Conv2d(64, 64, kernel_size=(3, 3), stride=(1, 1), padding=(1, 1), bias=False)\n",
      "        (bn2): BatchNorm2d(64, eps=1e-05, momentum=0.1, affine=True, track_running_stats=True)\n",
      "      )\n",
      "    )\n",
      "    (avg_pool): AvgPool2d(kernel_size=8, stride=8, padding=0)\n",
      "    (fc): Linear(in_features=64, out_features=256, bias=True)\n",
      "  )\n",
      "  (lstm): LSTM(\n",
      "    (lstm): LSTM(256, 256, num_layers=2, batch_first=True, dropout=0.2, bidirectional=True)\n",
      "    (fc_in): Linear(in_features=256, out_features=256, bias=True)\n",
      "    (fc_out): Linear(in_features=512, out_features=26, bias=True)\n",
      "  )\n",
      ")\n"
     ]
    }
   ],
   "source": [
    "## for reload .py file without restart\n",
    "import models_normal\n",
    "import importlib\n",
    "\n",
    "importlib.reload(models_normal)\n",
    "\n",
    "from models_normal import ConvLSTM\n",
    "\n",
    "model = ConvLSTM(num_classes=NUM_CLASSES, **kwargs).cuda()\n",
    "print(model)\n",
    "\n",
    "model_optim = optim.Adam(params=model.parameters(), lr=0.001)\n",
    "loss_func = nn.CrossEntropyLoss()"
   ]
  },
  {
   "cell_type": "code",
   "execution_count": 11,
   "metadata": {},
   "outputs": [],
   "source": [
    "print_interval = 50\n",
    "max_epoch = 10"
   ]
  },
  {
   "cell_type": "code",
   "execution_count": 12,
   "metadata": {
    "scrolled": false
   },
   "outputs": [
    {
     "name": "stdout",
     "output_type": "stream",
     "text": [
      "epoch: 1 step: 50 loss: 2.7812623977661133 accuracy: 8.8359375\n",
      "elapsed time : 0 h 1 m 27 s\n",
      "epoch: 1 step: 100 loss: 2.3298091888427734 accuracy: 14.042968750000002\n",
      "elapsed time : 0 h 2 m 54 s\n",
      "epoch: 1 step: 150 loss: 1.8166409730911255 accuracy: 21.4765625\n",
      "elapsed time : 0 h 4 m 21 s\n",
      "Valid epoch: 1, Valid accuracy: 61.18, Best valid accuracy: 61.18\n",
      "epoch: 2 step: 50 loss: 0.9450621008872986 accuracy: 67.3203125\n",
      "elapsed time : 0 h 7 m 35 s\n",
      "epoch: 2 step: 100 loss: 0.6816190481185913 accuracy: 72.01171875\n",
      "elapsed time : 0 h 9 m 2 s\n",
      "epoch: 2 step: 150 loss: 0.4699014723300934 accuracy: 75.16927083333333\n",
      "elapsed time : 0 h 10 m 28 s\n",
      "Valid epoch: 2, Valid accuracy: 85.58, Best valid accuracy: 85.58\n",
      "epoch: 3 step: 50 loss: 0.3321286141872406 accuracy: 88.34375\n",
      "elapsed time : 0 h 13 m 40 s\n",
      "epoch: 3 step: 100 loss: 0.37034982442855835 accuracy: 89.30859375\n",
      "elapsed time : 0 h 15 m 7 s\n",
      "epoch: 3 step: 150 loss: 0.3533024191856384 accuracy: 89.7109375\n",
      "elapsed time : 0 h 16 m 33 s\n",
      "Valid epoch: 3, Valid accuracy: 90.25, Best valid accuracy: 90.25\n",
      "epoch: 4 step: 50 loss: 0.2760447561740875 accuracy: 92.9296875\n",
      "elapsed time : 0 h 19 m 42 s\n",
      "epoch: 4 step: 100 loss: 0.2877746820449829 accuracy: 92.6796875\n",
      "elapsed time : 0 h 21 m 6 s\n",
      "epoch: 4 step: 150 loss: 0.22201162576675415 accuracy: 93.05989583333333\n",
      "elapsed time : 0 h 22 m 31 s\n",
      "Valid epoch: 4, Valid accuracy: 92.89, Best valid accuracy: 92.89\n",
      "epoch: 5 step: 50 loss: 0.20233435928821564 accuracy: 94.75\n",
      "elapsed time : 0 h 25 m 39 s\n",
      "epoch: 5 step: 100 loss: 0.18484528362751007 accuracy: 94.83203125\n",
      "elapsed time : 0 h 27 m 4 s\n",
      "epoch: 5 step: 150 loss: 0.20643350481987 accuracy: 94.66666666666667\n",
      "elapsed time : 0 h 28 m 29 s\n",
      "Valid epoch: 5, Valid accuracy: 92.85, Best valid accuracy: 92.89\n",
      "epoch: 6 step: 50 loss: 0.18346183001995087 accuracy: 95.1640625\n",
      "elapsed time : 0 h 31 m 36 s\n",
      "epoch: 6 step: 100 loss: 0.21494971215724945 accuracy: 95.40625\n",
      "elapsed time : 0 h 33 m 1 s\n",
      "epoch: 6 step: 150 loss: 0.07578155398368835 accuracy: 95.51041666666666\n",
      "elapsed time : 0 h 34 m 25 s\n",
      "Valid epoch: 6, Valid accuracy: 93.77, Best valid accuracy: 93.77\n",
      "epoch: 7 step: 50 loss: 0.2116977870464325 accuracy: 96.1796875\n",
      "elapsed time : 0 h 37 m 33 s\n",
      "epoch: 7 step: 100 loss: 0.1169806495308876 accuracy: 96.16796875\n",
      "elapsed time : 0 h 38 m 56 s\n",
      "epoch: 7 step: 150 loss: 0.1389966458082199 accuracy: 96.08854166666667\n",
      "elapsed time : 0 h 40 m 20 s\n",
      "Valid epoch: 7, Valid accuracy: 94.72, Best valid accuracy: 94.72\n",
      "epoch: 8 step: 50 loss: 0.08260404318571091 accuracy: 96.703125\n",
      "elapsed time : 0 h 43 m 25 s\n",
      "epoch: 8 step: 100 loss: 0.09048249572515488 accuracy: 96.703125\n",
      "elapsed time : 0 h 44 m 50 s\n",
      "epoch: 8 step: 150 loss: 0.12113925069570541 accuracy: 96.55989583333333\n",
      "elapsed time : 0 h 46 m 16 s\n",
      "Valid epoch: 8, Valid accuracy: 94.51, Best valid accuracy: 94.72\n",
      "epoch: 9 step: 50 loss: 0.07850464433431625 accuracy: 97.375\n",
      "elapsed time : 0 h 49 m 27 s\n",
      "epoch: 9 step: 100 loss: 0.0558716282248497 accuracy: 97.14453125\n",
      "elapsed time : 0 h 50 m 54 s\n",
      "epoch: 9 step: 150 loss: 0.08114027976989746 accuracy: 97.06510416666667\n",
      "elapsed time : 0 h 52 m 20 s\n",
      "Valid epoch: 9, Valid accuracy: 94.68, Best valid accuracy: 94.72\n",
      "epoch: 10 step: 50 loss: 0.06725755333900452 accuracy: 96.9609375\n",
      "elapsed time : 0 h 55 m 32 s\n",
      "epoch: 10 step: 100 loss: 0.07146308571100235 accuracy: 97.25\n",
      "elapsed time : 0 h 56 m 58 s\n",
      "epoch: 10 step: 150 loss: 0.06253237277269363 accuracy: 97.00520833333334\n",
      "elapsed time : 0 h 58 m 24 s\n",
      "Valid epoch: 10, Valid accuracy: 94.73, Best valid accuracy: 94.73\n"
     ]
    }
   ],
   "source": [
    "load_path = None\n",
    "train(model, model_optim, loss_func, max_epoch, train_dl, valid_dl, load_path=load_path, save_path='./model.pt')"
   ]
  },
  {
   "cell_type": "code",
   "execution_count": 13,
   "metadata": {},
   "outputs": [
    {
     "name": "stdout",
     "output_type": "stream",
     "text": [
      "Valid accuracy: 94.73\n"
     ]
    }
   ],
   "source": [
    "# load and evaluate model\n",
    "load_path = './model.pt'\n",
    "eval(valid_dl, load_path)"
   ]
  },
  {
   "cell_type": "code",
   "execution_count": 17,
   "metadata": {},
   "outputs": [
    {
     "data": {
      "image/png": "[encoded data removed]",
      "text/plain": [
       "<Figure size 504x288 with 1 Axes>"
      ]
     },
     "metadata": {
      "needs_background": "light"
     },
     "output_type": "display_data"
    },
    {
     "data": {
      "image/png": "[encoded data removed]",
      "text/plain": [
       "<Figure size 504x288 with 1 Axes>"
      ]
     },
     "metadata": {
      "needs_background": "light"
     },
     "output_type": "display_data"
    }
   ],
   "source": [
    "x = np.linspace(1,2000,10)\n",
    "\n",
    "fig, ax = plt.subplots(figsize=(7,4))\n",
    "ax.plot(train_acc, label='Train Accuracy', color='black', linestyle='dashed', linewidth=3)\n",
    "ax.plot(x, val_acc, label='Val Accuracy', color='black', linewidth=3) \n",
    "plt.xlabel('Minibatches')\n",
    "plt.ylabel('Accuracy (%)')\n",
    "plt.legend()\n",
    "plt.show()\n",
    "\n",
    "fig, ax = plt.subplots(figsize=(7,4))\n",
    "ax.plot(train_loss, label='Train Loss', color='black', linewidth=3)\n",
    "plt.xlabel('Minibatches')\n",
    "plt.ylabel('Loss')\n",
    "plt.show()"
   ]
  },
  {
   "cell_type": "markdown",
   "metadata": {},
   "source": [
    "### Test code for grading by TA"
   ]
  },
  {
   "cell_type": "code",
   "execution_count": null,
   "metadata": {},
   "outputs": [],
   "source": [
    "# you do not need to modify here\n",
    "from data_utils import Mydataset, collate_fn\n",
    "\n",
    "test_path = './data/emnist_progress_easy_data/test'\n",
    "test_ds = Mydataset(test_path, transform=transform, train=False)\n",
    "test_dl= DataLoader(test_ds, batch_size=batch_size, collate_fn=collate_fn, shuffle=False)"
   ]
  },
  {
   "cell_type": "code",
   "execution_count": null,
   "metadata": {},
   "outputs": [],
   "source": [
    "# please change the model name to your submission model name\n",
    "load_path = './model.pt'\n",
    "eval(test_dl, load_path)"
   ]
  },
  {
   "cell_type": "code",
   "execution_count": null,
   "metadata": {},
   "outputs": [],
   "source": []
  }
 ],
 "metadata": {
  "kernelspec": {
   "display_name": "Python 3",
   "language": "python",
   "name": "python3"
  },
  "language_info": {
   "codemirror_mode": {
    "name": "ipython",
    "version": 3
   },
   "file_extension": ".py",
   "mimetype": "text/x-python",
   "name": "python",
   "nbconvert_exporter": "python",
   "pygments_lexer": "ipython3",
   "version": "3.6.9"
  }
 },
 "nbformat": 4,
 "nbformat_minor": 1
}
